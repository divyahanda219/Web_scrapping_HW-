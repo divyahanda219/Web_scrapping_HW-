{
 "cells": [
  {
   "cell_type": "markdown",
   "metadata": {},
   "source": [
    "# Web Scrapping \n",
    "## Divya Handa\n"
   ]
  },
  {
   "cell_type": "code",
   "execution_count": 31,
   "metadata": {},
   "outputs": [],
   "source": [
    "import string\n",
    "import json\n",
    "import requests\n",
    "import bs4\n",
    "from bs4 import BeautifulSoup"
   ]
  },
  {
   "cell_type": "markdown",
   "metadata": {},
   "source": [
    "### In this code, I scrapped mutliple web pages of ISU directory for ABE department and calculated the total number of faculty and staff. Also, I created a csv file containing first and last names of everyone. "
   ]
  },
  {
   "cell_type": "code",
   "execution_count": 96,
   "metadata": {},
   "outputs": [],
   "source": [
    "number = []\n",
    "abe_dir = open('abe_dir.csv','w')\n",
    "for i in range(1,14):\n",
    "    url  = \"https://www.info.iastate.edu/individuals/advanced?last_name=&first_name=&email=&department=Agricultural%20&%20Biosystems%20Engineering=&individual_type=faculty_staff&orderby=0&orderdir=0&page=\"+str(i)\n",
    "    resp = requests.get(url)\n",
    "    soup = BeautifulSoup(resp.content, 'html.parser')\n",
    "    faculty1 = soup.find_all(\"a\", {'class':\"dir-Listing-item dir-Listing-item--oddRow\" })\n",
    "    faculty2 = soup.find_all(\"a\", {'class':\"dir-Listing-item dir-Listing-item--evenRow\" })\n",
    "    \n",
    "    if i <=12:\n",
    "        for j in range(0,20):\n",
    "            name1 = soup.find_all(\"span\", {'class':\"dir-Listing-item-name\" })[j].text\n",
    "            abe_dir.write(name1 + '\\n')\n",
    "    else:\n",
    "        for j in range(0,7):\n",
    "            name1 = soup.find_all(\"span\", {'class':\"dir-Listing-item-name\" })[j].text\n",
    "            abe_dir.write(name1 + '\\n')\n",
    "            \n",
    "    number.append(len(faculty1))\n",
    "    number.append(len(faculty2))\n",
    "    \n",
    "abe_dir.close()\n",
    "#print(soup)"
   ]
  },
  {
   "cell_type": "markdown",
   "metadata": {},
   "source": [
    "### Calculating the total staff and faculty"
   ]
  },
  {
   "cell_type": "code",
   "execution_count": 100,
   "metadata": {},
   "outputs": [],
   "source": [
    "new_total = 0\n",
    "for i in number:\n",
    "    total = i\n",
    "    new_total = total +new_total"
   ]
  },
  {
   "cell_type": "code",
   "execution_count": 101,
   "metadata": {},
   "outputs": [
    {
     "data": {
      "text/plain": [
       "247"
      ]
     },
     "execution_count": 101,
     "metadata": {},
     "output_type": "execute_result"
    }
   ],
   "source": [
    "new_total"
   ]
  },
  {
   "cell_type": "markdown",
   "metadata": {},
   "source": [
    "### In this code, I scrapped mutliple web pages of ISU directory for Maths department and calculated the total number of faculty and staff. Also, I created a csv file containing first and last names of everyone. "
   ]
  },
  {
   "cell_type": "code",
   "execution_count": 103,
   "metadata": {},
   "outputs": [],
   "source": [
    "number2 = []\n",
    "maths_dir = open('maths_dir.csv','w')\n",
    "for i in range(1,9):\n",
    "    url2  = \"https://www.info.iastate.edu/individuals/advanced?last_name=&first_name=&email=&department=Mathematics&individual_type=faculty_staff&orderby=0&orderdir=0&page=\"+str(i)\n",
    "    resp2 = requests.get(url2)\n",
    "    soup2 = BeautifulSoup(resp2.content, 'html.parser')\n",
    "    faculty3 = soup2.find_all(\"a\", {'class':\"dir-Listing-item dir-Listing-item--oddRow\" })\n",
    "    faculty4 = soup2.find_all(\"a\", {'class':\"dir-Listing-item dir-Listing-item--evenRow\" })\n",
    "    \n",
    "    if i <=7:\n",
    "        for j in range(0,20):\n",
    "            name2 = soup2.find_all(\"span\", {'class':\"dir-Listing-item-name\" })[j].text\n",
    "            maths_dir.write(name2 + '\\n')\n",
    "    else:\n",
    "        for j in range(0,8):\n",
    "            name2 = soup2.find_all(\"span\", {'class':\"dir-Listing-item-name\" })[j].text\n",
    "            maths_dir.write(name2 + '\\n')\n",
    "            \n",
    "    number2.append(len(faculty3))\n",
    "    number2.append(len(faculty4))\n",
    "    \n",
    "maths_dir.close()\n",
    "#print(soup)"
   ]
  },
  {
   "cell_type": "code",
   "execution_count": 104,
   "metadata": {},
   "outputs": [],
   "source": [
    "new_total2 = 0\n",
    "for i in number2:\n",
    "    total2 = i\n",
    "    new_total2 = total2 +new_total2"
   ]
  },
  {
   "cell_type": "code",
   "execution_count": 106,
   "metadata": {},
   "outputs": [
    {
     "data": {
      "text/plain": [
       "148"
      ]
     },
     "execution_count": 106,
     "metadata": {},
     "output_type": "execute_result"
    }
   ],
   "source": [
    "new_total2"
   ]
  },
  {
   "cell_type": "markdown",
   "metadata": {},
   "source": [
    "### The total staff of ABE department was bigger than Maths department. "
   ]
  }
 ],
 "metadata": {
  "kernelspec": {
   "display_name": "Python 3",
   "language": "python",
   "name": "python3"
  },
  "language_info": {
   "codemirror_mode": {
    "name": "ipython",
    "version": 3
   },
   "file_extension": ".py",
   "mimetype": "text/x-python",
   "name": "python",
   "nbconvert_exporter": "python",
   "pygments_lexer": "ipython3",
   "version": "3.7.1"
  }
 },
 "nbformat": 4,
 "nbformat_minor": 2
}
